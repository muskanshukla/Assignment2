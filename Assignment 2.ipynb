{
 "cells": [
  {
   "cell_type": "code",
   "execution_count": 4,
   "metadata": {},
   "outputs": [
    {
     "name": "stdout",
     "output_type": "stream",
     "text": [
      "Sum of all element in list : 54\n",
      "Product of all elements in list : 7776000\n"
     ]
    }
   ],
   "source": [
    "#1\n",
    "def myreduce(a,b):\n",
    "    i = b[0]\n",
    "    \n",
    "    for x in range(1, len(b)):\n",
    "        i = a(i, b[x])\n",
    "    \n",
    "    return i\n",
    "\n",
    "def summ(num1, num2):\n",
    "    return num1 + num2\n",
    "\n",
    "def Product(num1, num2):\n",
    "    return(num1 * num2)\n",
    "\n",
    "l = [5,8,6,5,4,1,2,3,9,5,6]\n",
    "\n",
    "print(\"Sum of all element in list :\", myreduce(summ, l))\n",
    "print(\"Product of all elements in list :\", myreduce(Product, l))\n",
    "    "
   ]
  },
  {
   "cell_type": "code",
   "execution_count": 8,
   "metadata": {},
   "outputs": [
    {
     "name": "stdout",
     "output_type": "stream",
     "text": [
      "[4, 2, 6, 8, 6, 2]\n",
      "[1, 5, 7, 9, 5, 3, 1, 3, 65]\n"
     ]
    }
   ],
   "source": [
    "#2\n",
    "def myfilter(funct, l):\n",
    "    a = []\n",
    "    b = []\n",
    "    \n",
    "    for i in l:\n",
    "        a.append(funct(i))\n",
    "    \n",
    "    for i in range(0, len(a)):\n",
    "        \n",
    "        if a[i] == False:\n",
    "            continue\n",
    "        \n",
    "        else:\n",
    "            b.append(a[i])\n",
    "    \n",
    "    return b\n",
    "        \n",
    "def even_num(i):\n",
    "    \n",
    "    if i%2 == 0:\n",
    "        return i\n",
    "    \n",
    "    else:\n",
    "        return False\n",
    "\n",
    "def odd_num(i):\n",
    "    if i%2 == 1:\n",
    "        return i\n",
    "    else:\n",
    "        return False\n",
    "\n",
    "print(myfilter(even_num, [5,4,2,6,8,5,1,6,9,45,2,465]))\n",
    "print(myfilter(odd_num,[4,1,2,6,5,7,9,8,2,5,3,6,4,1,52,6,2,3,4,65]))"
   ]
  },
  {
   "cell_type": "code",
   "execution_count": 9,
   "metadata": {},
   "outputs": [
    {
     "name": "stdout",
     "output_type": "stream",
     "text": [
      "['A', 'C', 'A', 'D', 'G', 'I', 'L', 'D']\n",
      "['x', 'xx', 'xxx', 'xxxx', 'y', 'yy', 'yyy', 'yyyy', 'z', 'zz', 'zzz', 'zzzz']\n",
      "['x', 'y', 'z', 'xx', 'yy', 'zz', 'xxx', 'yyy', 'zzz', 'xxxx', 'yyyy', 'zzzz']\n",
      "[[2], [3], [4], [3], [4], [5], [4], [5], [6]]\n",
      "[[2, 3, 4, 5], [3, 4, 5, 6], [4, 5, 6, 7], [5, 6, 7, 8]]\n",
      "[(1, 1), (2, 1), (3, 1), (1, 2), (2, 2), (3, 2), (1, 3), (2, 3), (3, 3)]\n"
     ]
    }
   ],
   "source": [
    "#3\n",
    "l = [i for i in 'ACADGILD']\n",
    "print(l)\n",
    "l2 = [i * j for j in ['x', 'y', 'z'] for i in range(1, 5)]\n",
    "print(l2)\n",
    "l3 = [i * j for j in range(1, 5) for i in ['x', 'y', 'z']]\n",
    "print(l3)\n",
    "l4 = [[i + j] for j in [0, 1, 2] for i in range(2, 5)]\n",
    "print(l4)\n",
    "l5 = [[i + j for j in [0, 1, 2, 3]] for i in range(2, 6)]\n",
    "print(l5)\n",
    "l6 = [(i,j) for j in [1, 2, 3] for i in [1, 2, 3]]\n",
    "print(l6)"
   ]
  },
  {
   "cell_type": "code",
   "execution_count": 10,
   "metadata": {},
   "outputs": [
    {
     "name": "stdout",
     "output_type": "stream",
     "text": [
      "List of words:['One', 'Two', 'Three', 'Four', 'Five']\n",
      "List of wordlength:[3, 3, 5, 4, 4]\n"
     ]
    }
   ],
   "source": [
    "#4\n",
    "l1 = ['One','Two','Three','Four','Five']\n",
    " \n",
    "l2 = []\n",
    " \n",
    "for i in range(len(l1)):\n",
    "    l2.append(len(l1[i]))\n",
    " \n",
    "print(\"List of words:\"+str(l1))    \n",
    "print(\"List of wordlength:\"+str(l2))"
   ]
  },
  {
   "cell_type": "code",
   "execution_count": 5,
   "metadata": {},
   "outputs": [
    {
     "name": "stdout",
     "output_type": "stream",
     "text": [
      "6.0\n",
      "There are 3 sides.\n"
     ]
    }
   ],
   "source": [
    "#5\n",
    "class Polygon:\n",
    "\n",
    "    def __init__(self, n):\n",
    "        self.number_of_sides = n\n",
    "\n",
    "    def print_num_sides(self):\n",
    "\n",
    "        print('There are ' + str(self.number_of_sides) + ' sides.')\n",
    "        \n",
    "class Triangle(Polygon):\n",
    "\n",
    "    def __init__(self, lengths_of_sides):\n",
    "        Polygon.__init__(self, 3)\n",
    "        self.lengths_of_sides = lengths_of_sides  # list of three numbers\n",
    "\n",
    "    def get_area(self):\n",
    "        '''return the area of the triangle using the semi-perimeter method'''\n",
    "        a, b, c = self.lengths_of_sides\n",
    "       \n",
    "        s = (a + b + c) / 2\n",
    "        return (s*(s-a)*(s-b)*(s-c)) ** 0.5\n",
    "    \n",
    "\n",
    "tri = Triangle([3, 4, 5])\n",
    "print(tri.get_area())\n",
    "tri.print_num_sides()"
   ]
  },
  {
   "cell_type": "code",
   "execution_count": 1,
   "metadata": {},
   "outputs": [
    {
     "data": {
      "text/plain": [
       "['this should']"
      ]
     },
     "execution_count": 1,
     "metadata": {},
     "output_type": "execute_result"
    }
   ],
   "source": [
    "#6\n",
    "def filter_long_words(words, n):\n",
    "    return filter(lambda x: len(x) > n, words)\n",
    "\n",
    "\n",
    "list(filter_long_words(['test', 'not', 'this should'], 5))"
   ]
  },
  {
   "cell_type": "code",
   "execution_count": 2,
   "metadata": {},
   "outputs": [
    {
     "name": "stdout",
     "output_type": "stream",
     "text": [
      "False\n",
      "True\n",
      "False\n"
     ]
    }
   ],
   "source": [
    "#7\n",
    "def is_vowel(char):\n",
    "    vowels = ('a', 'e', 'i', 'o', 'u')\n",
    "    if char not in vowels:\n",
    "        return False\n",
    "    return True\n",
    "\n",
    "\n",
    "if __name__ == \"__main__\":\n",
    "    print(is_vowel(1))\n",
    "    print(is_vowel('a'))\n",
    "    print(is_vowel('b'))"
   ]
  },
  {
   "cell_type": "code",
   "execution_count": null,
   "metadata": {},
   "outputs": [],
   "source": []
  }
 ],
 "metadata": {
  "kernelspec": {
   "display_name": "Python 3",
   "language": "python",
   "name": "python3"
  },
  "language_info": {
   "codemirror_mode": {
    "name": "ipython",
    "version": 3
   },
   "file_extension": ".py",
   "mimetype": "text/x-python",
   "name": "python",
   "nbconvert_exporter": "python",
   "pygments_lexer": "ipython3",
   "version": "3.7.3"
  }
 },
 "nbformat": 4,
 "nbformat_minor": 2
}
